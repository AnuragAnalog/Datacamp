{
 "cells": [
  {
   "cell_type": "markdown",
   "id": "f8b70d12",
   "metadata": {},
   "source": [
    "# Reporting on sales data\n",
    "\n",
    "Now let's now move on to the competition and challenge.\n",
    "\n",
    "## 📖 Background\n",
    "You work in the accounting department of a company that sells motorcycle parts. The company operates three warehouses in a large metropolitan area.\n",
    "\n",
    "You’ve recently learned data manipulation and plotting, and suggest helping your colleague analyze past sales data. Your colleague wants to capture sales by payment method. She also needs to know the average unit price for each product line."
   ]
  },
  {
   "cell_type": "markdown",
   "id": "bb4cd736",
   "metadata": {},
   "source": [
    "## 💾 The data\n",
    "\n",
    "**The sales data has the following fields:**\n",
    "- \"date\" - The date, from June to August 2021.\n",
    "- \"warehouse\" - The company operates three warehouses: North, Central, and West.\n",
    "- \"client_type\" - There are two types of customers: Retail and Wholesale.\n",
    "- \"product_line\" - Type of products purchased.\n",
    "- \"quantity\" - How many items were purchased.\n",
    "- \"unit_price\" - Price per item sold.\n",
    "- \"total\" - Total sale = quantity * unit_price.\n",
    "- \"payment\" - How the client paid: Cash, Credit card, Transfer."
   ]
  },
  {
   "cell_type": "markdown",
   "id": "6c0744d0",
   "metadata": {},
   "source": [
    "## 💪 Challenge\n",
    "Create a report to answer your colleague's questions. Include:\n",
    "\n",
    "1. What are the total sales for each payment method?\n",
    "2. What is the average unit price for each product line?\n",
    "3. Create plots to visualize findings for questions 1 and 2.\n",
    "4. [Optional] Investigate further (e.g., average purchase value by client type, total purchase value by product line, etc.)\n",
    "5. Summarize your findings.\n",
    "\n",
    "Using the techniques of data analysis, preprocessing, and visualizations."
   ]
  },
  {
   "cell_type": "markdown",
   "id": "d26c75d9-7d4c-4e66-a380-8701a9ad1644",
   "metadata": {},
   "source": [
    "## 📚 LOAD PACKAGES\n",
    "\n",
    "we will be loading all the packages which are required to our analysis"
   ]
  },
  {
   "cell_type": "code",
   "execution_count": null,
   "id": "ad1216f1-46a7-406e-9097-d13d4fe47f2f",
   "metadata": {},
   "outputs": [],
   "source": [
    "# Required modules\n",
    "\n",
    "import numpy as np\n",
    "import pandas as pd\n",
    "import seaborn as sns\n",
    "import plotly.express as px\n",
    "\n",
    "from matplotlib import pyplot as plt"
   ]
  },
  {
   "cell_type": "code",
   "execution_count": null,
   "id": "778100f0-43de-485f-8264-dde578817614",
   "metadata": {},
   "outputs": [],
   "source": [
    "# Config\n",
    "\n",
    "%matplotlib inline\n",
    "plt.rcParams['figure.figsize'] = (12, 7)"
   ]
  },
  {
   "cell_type": "markdown",
   "id": "707a1b97-0eb5-476d-b00f-154f97c29fb7",
   "metadata": {},
   "source": [
    "## 📁 Load the Dataframe\n",
    "\n",
    "The sales data is present at the location `data/sales_data.csv`, the columns attributes are described above."
   ]
  },
  {
   "cell_type": "code",
   "execution_count": null,
   "id": "098820a0-5d11-4d76-b2a4-4ff5f4c5e57a",
   "metadata": {},
   "outputs": [
    {
     "data": {
      "text/html": [
       "<div>\n",
       "<style scoped>\n",
       "    .dataframe tbody tr th:only-of-type {\n",
       "        vertical-align: middle;\n",
       "    }\n",
       "\n",
       "    .dataframe tbody tr th {\n",
       "        vertical-align: top;\n",
       "    }\n",
       "\n",
       "    .dataframe thead th {\n",
       "        text-align: right;\n",
       "    }\n",
       "</style>\n",
       "<table border=\"1\" class=\"dataframe\">\n",
       "  <thead>\n",
       "    <tr style=\"text-align: right;\">\n",
       "      <th></th>\n",
       "      <th>date</th>\n",
       "      <th>warehouse</th>\n",
       "      <th>client_type</th>\n",
       "      <th>product_line</th>\n",
       "      <th>quantity</th>\n",
       "      <th>unit_price</th>\n",
       "      <th>total</th>\n",
       "      <th>payment</th>\n",
       "    </tr>\n",
       "  </thead>\n",
       "  <tbody>\n",
       "    <tr>\n",
       "      <th>0</th>\n",
       "      <td>2021-06-01</td>\n",
       "      <td>Central</td>\n",
       "      <td>Retail</td>\n",
       "      <td>Miscellaneous</td>\n",
       "      <td>8</td>\n",
       "      <td>16.85</td>\n",
       "      <td>134.83</td>\n",
       "      <td>Credit card</td>\n",
       "    </tr>\n",
       "    <tr>\n",
       "      <th>1</th>\n",
       "      <td>2021-06-01</td>\n",
       "      <td>North</td>\n",
       "      <td>Retail</td>\n",
       "      <td>Breaking system</td>\n",
       "      <td>9</td>\n",
       "      <td>19.29</td>\n",
       "      <td>173.61</td>\n",
       "      <td>Cash</td>\n",
       "    </tr>\n",
       "    <tr>\n",
       "      <th>2</th>\n",
       "      <td>2021-06-01</td>\n",
       "      <td>North</td>\n",
       "      <td>Retail</td>\n",
       "      <td>Suspension &amp; traction</td>\n",
       "      <td>8</td>\n",
       "      <td>32.93</td>\n",
       "      <td>263.45</td>\n",
       "      <td>Credit card</td>\n",
       "    </tr>\n",
       "    <tr>\n",
       "      <th>3</th>\n",
       "      <td>2021-06-01</td>\n",
       "      <td>North</td>\n",
       "      <td>Wholesale</td>\n",
       "      <td>Frame &amp; body</td>\n",
       "      <td>16</td>\n",
       "      <td>37.84</td>\n",
       "      <td>605.44</td>\n",
       "      <td>Transfer</td>\n",
       "    </tr>\n",
       "    <tr>\n",
       "      <th>4</th>\n",
       "      <td>2021-06-01</td>\n",
       "      <td>Central</td>\n",
       "      <td>Retail</td>\n",
       "      <td>Engine</td>\n",
       "      <td>2</td>\n",
       "      <td>60.48</td>\n",
       "      <td>120.96</td>\n",
       "      <td>Credit card</td>\n",
       "    </tr>\n",
       "  </tbody>\n",
       "</table>\n",
       "</div>"
      ],
      "text/plain": [
       "         date warehouse client_type           product_line  quantity  \\\n",
       "0  2021-06-01   Central      Retail          Miscellaneous         8   \n",
       "1  2021-06-01     North      Retail        Breaking system         9   \n",
       "2  2021-06-01     North      Retail  Suspension & traction         8   \n",
       "3  2021-06-01     North   Wholesale           Frame & body        16   \n",
       "4  2021-06-01   Central      Retail                 Engine         2   \n",
       "\n",
       "   unit_price   total      payment  \n",
       "0       16.85  134.83  Credit card  \n",
       "1       19.29  173.61         Cash  \n",
       "2       32.93  263.45  Credit card  \n",
       "3       37.84  605.44     Transfer  \n",
       "4       60.48  120.96  Credit card  "
      ]
     },
     "execution_count": 8,
     "metadata": {},
     "output_type": "execute_result"
    }
   ],
   "source": [
    "# Load the data\n",
    "\n",
    "sales = pd.read_csv('./data/sales_data.csv', parse_dates=['date'])\n",
    "sales.head()"
   ]
  },
  {
   "cell_type": "markdown",
   "id": "2cecdf17-50d6-4f31-b975-f216763d2050",
   "metadata": {},
   "source": [
    "As, we can see that there are about 8 columns, with names which are self-explanatory"
   ]
  },
  {
   "cell_type": "markdown",
   "id": "97850545-d703-4203-b398-bac06915e2c5",
   "metadata": {},
   "source": [
    "## 📊 Exploratory Data Analysis"
   ]
  },
  {
   "cell_type": "code",
   "execution_count": null,
   "id": "9dd44ce2-c954-40b8-8c99-f96e478434c5",
   "metadata": {},
   "outputs": [
    {
     "name": "stdout",
     "output_type": "stream",
     "text": [
      "<class 'pandas.core.frame.DataFrame'>\n",
      "RangeIndex: 1000 entries, 0 to 999\n",
      "Data columns (total 8 columns):\n",
      " #   Column        Non-Null Count  Dtype  \n",
      "---  ------        --------------  -----  \n",
      " 0   date          1000 non-null   object \n",
      " 1   warehouse     1000 non-null   object \n",
      " 2   client_type   1000 non-null   object \n",
      " 3   product_line  1000 non-null   object \n",
      " 4   quantity      1000 non-null   int64  \n",
      " 5   unit_price    1000 non-null   float64\n",
      " 6   total         1000 non-null   float64\n",
      " 7   payment       1000 non-null   object \n",
      "dtypes: float64(2), int64(1), object(5)\n",
      "memory usage: 62.6+ KB\n"
     ]
    },
    {
     "data": {
      "text/html": [
       "<div>\n",
       "<style scoped>\n",
       "    .dataframe tbody tr th:only-of-type {\n",
       "        vertical-align: middle;\n",
       "    }\n",
       "\n",
       "    .dataframe tbody tr th {\n",
       "        vertical-align: top;\n",
       "    }\n",
       "\n",
       "    .dataframe thead th {\n",
       "        text-align: right;\n",
       "    }\n",
       "</style>\n",
       "<table border=\"1\" class=\"dataframe\">\n",
       "  <thead>\n",
       "    <tr style=\"text-align: right;\">\n",
       "      <th></th>\n",
       "      <th>quantity</th>\n",
       "      <th>unit_price</th>\n",
       "      <th>total</th>\n",
       "    </tr>\n",
       "  </thead>\n",
       "  <tbody>\n",
       "    <tr>\n",
       "      <th>count</th>\n",
       "      <td>1000.000000</td>\n",
       "      <td>1000.000000</td>\n",
       "      <td>1000.000000</td>\n",
       "    </tr>\n",
       "    <tr>\n",
       "      <th>mean</th>\n",
       "      <td>9.395000</td>\n",
       "      <td>30.322040</td>\n",
       "      <td>289.113000</td>\n",
       "    </tr>\n",
       "    <tr>\n",
       "      <th>std</th>\n",
       "      <td>9.659207</td>\n",
       "      <td>12.256488</td>\n",
       "      <td>345.227596</td>\n",
       "    </tr>\n",
       "    <tr>\n",
       "      <th>min</th>\n",
       "      <td>1.000000</td>\n",
       "      <td>10.030000</td>\n",
       "      <td>10.350000</td>\n",
       "    </tr>\n",
       "    <tr>\n",
       "      <th>25%</th>\n",
       "      <td>4.000000</td>\n",
       "      <td>21.085000</td>\n",
       "      <td>93.687500</td>\n",
       "    </tr>\n",
       "    <tr>\n",
       "      <th>50%</th>\n",
       "      <td>6.500000</td>\n",
       "      <td>28.570000</td>\n",
       "      <td>178.360000</td>\n",
       "    </tr>\n",
       "    <tr>\n",
       "      <th>75%</th>\n",
       "      <td>10.000000</td>\n",
       "      <td>37.917500</td>\n",
       "      <td>321.690000</td>\n",
       "    </tr>\n",
       "    <tr>\n",
       "      <th>max</th>\n",
       "      <td>40.000000</td>\n",
       "      <td>66.620000</td>\n",
       "      <td>2546.330000</td>\n",
       "    </tr>\n",
       "  </tbody>\n",
       "</table>\n",
       "</div>"
      ],
      "text/plain": [
       "          quantity   unit_price        total\n",
       "count  1000.000000  1000.000000  1000.000000\n",
       "mean      9.395000    30.322040   289.113000\n",
       "std       9.659207    12.256488   345.227596\n",
       "min       1.000000    10.030000    10.350000\n",
       "25%       4.000000    21.085000    93.687500\n",
       "50%       6.500000    28.570000   178.360000\n",
       "75%      10.000000    37.917500   321.690000\n",
       "max      40.000000    66.620000  2546.330000"
      ]
     },
     "execution_count": 9,
     "metadata": {},
     "output_type": "execute_result"
    }
   ],
   "source": [
    "# A Quick glimpse of the data\n",
    "\n",
    "sales.info()\n",
    "sales.describe()"
   ]
  },
  {
   "cell_type": "markdown",
   "id": "95650af1-77df-4c27-8eb8-5efeecaa15e6",
   "metadata": {},
   "source": [
    "There are a total of 1000 entries of the sales data, with no missing values in any of the columns\n",
    "\n",
    "Now, Let's check about the duplicate values in the data"
   ]
  },
  {
   "cell_type": "code",
   "execution_count": null,
   "id": "5b6c2292-1d43-4fcd-9586-6d428ce4b893",
   "metadata": {},
   "outputs": [
    {
     "name": "stdout",
     "output_type": "stream",
     "text": [
      "Number of duplicate values in the data are: 0\n"
     ]
    }
   ],
   "source": [
    "# Are there any duplicate values?\n",
    "\n",
    "dups = sales[sales.duplicated()]\n",
    "print(f\"Number of duplicate values in the data are: {len(dups)}\")"
   ]
  },
  {
   "cell_type": "markdown",
   "id": "d0e6e2fd-61cc-4084-af1c-d9c71d0eb350",
   "metadata": {},
   "source": [
    "Let's make the histogram of the numeric variables, to understand it's distribution much better"
   ]
  },
  {
   "cell_type": "code",
   "execution_count": null,
   "id": "cc4d7ead-fff4-415a-a843-b64c5691636d",
   "metadata": {},
   "outputs": [
    {
     "data": {
      "image/png": "[encoded data removed]",
      "text/plain": [
       "<Figure size 864x504 with 3 Axes>"
      ]
     },
     "metadata": {
      "needs_background": "light"
     },
     "output_type": "display_data"
    }
   ],
   "source": [
    "# Make a histogram of numeric variables\n",
    "\n",
    "num_cols = [col for col in sales.columns if sales[col].dtype in ['float64', 'int64']]\n",
    "\n",
    "fig, ax = plt.subplots(1, 3)\n",
    "\n",
    "fig.suptitle(\"Distribution of Numeric variables\")\n",
    "\n",
    "for i, col in enumerate(num_cols):\n",
    "    ax[i].set_xlabel(col.capitalize())\n",
    "    sns.histplot(x=col, data=sales, ax=ax[i], kde=True)"
   ]
  },
  {
   "cell_type": "markdown",
   "id": "6ff8b529-3563-44ac-a0b2-09f8616cb595",
   "metadata": {},
   "source": [
    "Looks like, the distributions of all numeric values are left skewed, log transformation will make it much better and suitable as a feature for machine learning modelling, if needed after the analysis."
   ]
  },
  {
   "cell_type": "markdown",
   "id": "95f653bf-8a2d-4a30-be0c-3b070f84686e",
   "metadata": {},
   "source": [
    "### ❓ Question 1: Sales based on Payments?\n",
    "\n",
    "The first question is: **What are the total sales for each payment method?**\n",
    "In this, I will be using the viz to see how the sales vary on the mode of payments."
   ]
  },
  {
   "cell_type": "markdown",
   "id": "ed6e1b00-4c2c-4315-b4d1-ca75b5f5d9a6",
   "metadata": {},
   "source": [
    "### 📝 Answer 1"
   ]
  },
  {
   "cell_type": "code",
   "execution_count": null,
   "id": "4115e9b6-5ba5-45ac-a446-1b608794b905",
   "metadata": {},
   "outputs": [
    {
     "data": {
      "text/plain": [
       "Text(0.5, 1.0, 'Sales based on Type of Payments')"
      ]
     },
     "execution_count": 12,
     "metadata": {},
     "output_type": "execute_result"
    },
    {
     "data": {
      "image/png": "[encoded data removed]",
      "text/plain": [
       "<Figure size 864x504 with 1 Axes>"
      ]
     },
     "metadata": {
      "needs_background": "light"
     },
     "output_type": "display_data"
    }
   ],
   "source": [
    "# Sales over payments\n",
    "\n",
    "sales_on_payments = sales.groupby('payment').agg({'total': 'sum'}).reset_index()\n",
    "\n",
    "sns.barplot(x='payment', y='total', data=sales_on_payments)\n",
    "plt.xlabel(\"Mode of Payment\", fontdict={'fontsize': 15})\n",
    "plt.ylabel(\"Sales Amount\", fontdict={'fontsize': 15})\n",
    "plt.title(\"Sales based on Type of Payments\", fontdict={'fontsize': 20})"
   ]
  },
  {
   "cell_type": "code",
   "execution_count": null,
   "id": "11b73cbf-a4a5-4f78-b5c4-439d4eb08d5c",
   "metadata": {},
   "outputs": [
    {
     "name": "stdout",
     "output_type": "stream",
     "text": [
      "Sales in individual payments\n",
      "       payment      total\n",
      "0         Cash   19199.10\n",
      "1  Credit card  110271.57\n",
      "2     Transfer  159642.33\n"
     ]
    },
    {
     "data": {
      "text/html": [
       "<div>\n",
       "<style scoped>\n",
       "    .dataframe tbody tr th:only-of-type {\n",
       "        vertical-align: middle;\n",
       "    }\n",
       "\n",
       "    .dataframe tbody tr th {\n",
       "        vertical-align: top;\n",
       "    }\n",
       "\n",
       "    .dataframe thead th {\n",
       "        text-align: right;\n",
       "    }\n",
       "</style>\n",
       "<table border=\"1\" class=\"dataframe\">\n",
       "  <thead>\n",
       "    <tr style=\"text-align: right;\">\n",
       "      <th></th>\n",
       "      <th>total</th>\n",
       "    </tr>\n",
       "    <tr>\n",
       "      <th>payment</th>\n",
       "      <th></th>\n",
       "    </tr>\n",
       "  </thead>\n",
       "  <tbody>\n",
       "    <tr>\n",
       "      <th>Cash</th>\n",
       "      <td>6.640691</td>\n",
       "    </tr>\n",
       "    <tr>\n",
       "      <th>Credit card</th>\n",
       "      <td>38.141339</td>\n",
       "    </tr>\n",
       "    <tr>\n",
       "      <th>Transfer</th>\n",
       "      <td>55.217970</td>\n",
       "    </tr>\n",
       "  </tbody>\n",
       "</table>\n",
       "</div>"
      ],
      "text/plain": [
       "                 total\n",
       "payment               \n",
       "Cash          6.640691\n",
       "Credit card  38.141339\n",
       "Transfer     55.217970"
      ]
     },
     "execution_count": 32,
     "metadata": {},
     "output_type": "execute_result"
    }
   ],
   "source": [
    "# Sales in numbers\n",
    "\n",
    "total_sales = sales_on_payments['total'].sum()\n",
    "\n",
    "print(\"Sales in individual payments\")\n",
    "print(sales_on_payments)\n",
    "(sales_on_payments.set_index('payment', drop=True) / total_sales) * 100"
   ]
  },
  {
   "cell_type": "markdown",
   "id": "c4cc3ae8-243d-4fa9-9fca-4760b07bc24f",
   "metadata": {},
   "source": [
    "It's seems quite obvious, from the numbers that most of the payments are in the form of Transfer's(either Bank Trnsfers or Wallets Transfers), which is a little more than 50% followed by Credit Card(38%), and the least mode of payments is the Cash, approx 7%"
   ]
  },
  {
   "cell_type": "markdown",
   "id": "0521516f-201d-4eea-b0c3-442ef5dbf675",
   "metadata": {},
   "source": [
    "### ❓ Question 2: Average Price of Product lines?\n",
    "\n",
    "The second question is: **What is the average unit price for each product line?**\n",
    "In this, I will be using the viz to see average unit price of various product lines."
   ]
  },
  {
   "cell_type": "markdown",
   "id": "04ba6f60-8f6a-493a-b02d-99bf2d6a7771",
   "metadata": {},
   "source": [
    "### 📝 Answer 2"
   ]
  },
  {
   "cell_type": "code",
   "execution_count": null,
   "id": "f1596eca-acb9-494d-af75-380b3d19d55e",
   "metadata": {},
   "outputs": [
    {
     "data": {
      "text/plain": [
       "Text(0.5, 1.0, 'Average Price per Product line')"
      ]
     },
     "execution_count": 35,
     "metadata": {},
     "output_type": "execute_result"
    },
    {
     "data": {
      "image/png": "[encoded data removed]",
      "text/plain": [
       "<Figure size 864x504 with 1 Axes>"
      ]
     },
     "metadata": {
      "needs_background": "light"
     },
     "output_type": "display_data"
    }
   ],
   "source": [
    "# Average Price per Product line\n",
    "\n",
    "price_on_product_line = sales.groupby('product_line').agg({'unit_price': 'mean'}).reset_index()\n",
    "\n",
    "sns.barplot(x='product_line', y='unit_price', data=price_on_product_line)\n",
    "plt.xlabel(\"Type of Product Line\", fontdict={'fontsize': 15})\n",
    "plt.ylabel(\"Avg. Unit Price\", fontdict={'fontsize': 15})\n",
    "plt.title(\"Average Price per Product line\", fontdict={'fontsize': 20})"
   ]
  },
  {
   "cell_type": "code",
   "execution_count": null,
   "id": "2c0a222c-ee50-4f81-97eb-713a281764c1",
   "metadata": {},
   "outputs": [
    {
     "data": {
      "text/html": [
       "<div>\n",
       "<style scoped>\n",
       "    .dataframe tbody tr th:only-of-type {\n",
       "        vertical-align: middle;\n",
       "    }\n",
       "\n",
       "    .dataframe tbody tr th {\n",
       "        vertical-align: top;\n",
       "    }\n",
       "\n",
       "    .dataframe thead th {\n",
       "        text-align: right;\n",
       "    }\n",
       "</style>\n",
       "<table border=\"1\" class=\"dataframe\">\n",
       "  <thead>\n",
       "    <tr style=\"text-align: right;\">\n",
       "      <th></th>\n",
       "      <th>product_line</th>\n",
       "      <th>unit_price</th>\n",
       "    </tr>\n",
       "  </thead>\n",
       "  <tbody>\n",
       "    <tr>\n",
       "      <th>2</th>\n",
       "      <td>Engine</td>\n",
       "      <td>60.091803</td>\n",
       "    </tr>\n",
       "    <tr>\n",
       "      <th>3</th>\n",
       "      <td>Frame &amp; body</td>\n",
       "      <td>42.832229</td>\n",
       "    </tr>\n",
       "    <tr>\n",
       "      <th>5</th>\n",
       "      <td>Suspension &amp; traction</td>\n",
       "      <td>33.969868</td>\n",
       "    </tr>\n",
       "    <tr>\n",
       "      <th>1</th>\n",
       "      <td>Electrical system</td>\n",
       "      <td>25.585130</td>\n",
       "    </tr>\n",
       "    <tr>\n",
       "      <th>4</th>\n",
       "      <td>Miscellaneous</td>\n",
       "      <td>22.810738</td>\n",
       "    </tr>\n",
       "    <tr>\n",
       "      <th>0</th>\n",
       "      <td>Breaking system</td>\n",
       "      <td>17.740522</td>\n",
       "    </tr>\n",
       "  </tbody>\n",
       "</table>\n",
       "</div>"
      ],
      "text/plain": [
       "            product_line  unit_price\n",
       "2                 Engine   60.091803\n",
       "3           Frame & body   42.832229\n",
       "5  Suspension & traction   33.969868\n",
       "1      Electrical system   25.585130\n",
       "4          Miscellaneous   22.810738\n",
       "0        Breaking system   17.740522"
      ]
     },
     "execution_count": 38,
     "metadata": {},
     "output_type": "execute_result"
    }
   ],
   "source": [
    "# Avg. Price in numbers\n",
    "\n",
    "price_on_product_line.sort_values(['unit_price'], ascending=False)"
   ]
  },
  {
   "cell_type": "markdown",
   "id": "4a9f113a-3724-430e-9d72-77b94f20dd89",
   "metadata": {},
   "source": [
    "The Product Line with the highest Unit Price is the **Engine** followed by Frame & Body, Suspension & Traction, and with the least Price is the **Breaking System**.\n",
    "\n",
    "My intution is that, the product which is most repaired/most sold will be at lower price as the demand is huge and vice versa.\n",
    "> May or May not be true, which can be found from some extra analysis"
   ]
  },
  {
   "cell_type": "markdown",
   "id": "62ae9557-1453-46f8-85f4-3816f16ac5c8",
   "metadata": {},
   "source": [
    "### ❓ Question 3: Average Price of Product lines?\n",
    "\n",
    "The third question is: **Create plots to visualize findings for questions 1 and 2**\n",
    "I have already done these in the previous task."
   ]
  },
  {
   "cell_type": "markdown",
   "id": "b1cc15e7-ae2c-47b5-b3c4-35b80e542347",
   "metadata": {},
   "source": [
    "### 📝 Answer 3"
   ]
  },
  {
   "cell_type": "markdown",
   "id": "0653410a-ffbc-43c5-8343-93bec38971b0",
   "metadata": {},
   "source": [
    "### ❓ Question 4: eXtend your investigation\n",
    "\n",
    "The fourth question is: **Investigate further (e.g., average purchase value by client type, total purchase value by product line, etc.)**\n",
    "\n",
    "> This is an Optional Question"
   ]
  },
  {
   "cell_type": "code",
   "execution_count": null,
   "id": "8be473bd-fe4f-434d-8019-65ed435e8679",
   "metadata": {},
   "outputs": [],
   "source": [
    "# Function for generlization(plots)\n",
    "\n",
    "def plot_columns(cat_col, num_col, agg_func):\n",
    "    cat_on_num = sales.groupby(cat_col).agg({num_col: agg_func}).reset_index()\n",
    "    \n",
    "    sns.barplot(x=cat_col, y=num_col, data=cat_on_num)\n",
    "    plt.xlabel(cat_col.capitalize(), fontdict={'fontsize': 15})\n",
    "    plt.ylabel(f\"{agg_func.capitalize()} of {num_col.capitalize()}\", fontdict={'fontsize': 15})\n",
    "    plt.title(f\"{cat_col.capitalize()} vs {num_col.capitalize()}({agg_func.capitalize()})\", fontdict={'fontsize': 20})"
   ]
  },
  {
   "cell_type": "markdown",
   "id": "ad6b0882-6cc8-413f-b3c2-812e786bc7b8",
   "metadata": {},
   "source": [
    "### 📝 Answer 4"
   ]
  },
  {
   "cell_type": "code",
   "execution_count": null,
   "id": "c6407317-120c-4e6e-9f85-aa74c8b4fb13",
   "metadata": {},
   "outputs": [
    {
     "data": {
      "image/png": "[encoded data removed]",
      "text/plain": [
       "<Figure size 864x504 with 1 Axes>"
      ]
     },
     "metadata": {
      "needs_background": "light"
     },
     "output_type": "display_data"
    }
   ],
   "source": [
    "# Plot Average Purchase by Client Type\n",
    "\n",
    "plot_columns('client_type', 'quantity', 'mean')"
   ]
  },
  {
   "cell_type": "code",
   "execution_count": null,
   "id": "86815f91-6667-4845-8885-0fe3d1536ea1",
   "metadata": {},
   "outputs": [
    {
     "data": {
      "image/png": "[encoded data removed]",
      "text/plain": [
       "<Figure size 864x504 with 1 Axes>"
      ]
     },
     "metadata": {
      "needs_background": "light"
     },
     "output_type": "display_data"
    }
   ],
   "source": [
    "plot_columns('product_line', 'quantity', 'mean')"
   ]
  },
  {
   "cell_type": "markdown",
   "id": "85c6bfd5-ee57-4b17-a8b2-b3816d3271b5",
   "metadata": {},
   "source": [
    "\n",
    "## ❓ Question 5: Write Report\n",
    "The fifth question is: Summarize your findings."
   ]
  },
  {
   "cell_type": "markdown",
   "id": "8aee311e-853a-481a-b2e3-895e530aa975",
   "metadata": {},
   "source": [
    "### 📝 Answer 5"
   ]
  }
 ],
 "metadata": {
  "kernelspec": {
   "display_name": "Python 3 (ipykernel)",
   "language": "python",
   "name": "python3"
  },
  "language_info": {
   "codemirror_mode": {
    "name": "ipython",
    "version": 3
   },
   "file_extension": ".py",
   "mimetype": "text/x-python",
   "name": "python",
   "nbconvert_exporter": "python",
   "pygments_lexer": "ipython3",
   "version": "3.8.10"
  }
 },
 "nbformat": 4,
 "nbformat_minor": 5
}
